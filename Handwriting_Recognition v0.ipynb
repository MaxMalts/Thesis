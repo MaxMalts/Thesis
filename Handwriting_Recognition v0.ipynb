{
  "cells": [
    {
      "cell_type": "markdown",
      "metadata": {
        "id": "oLX_2pmWdA7J"
      },
      "source": [
        "## Setup"
      ]
    },
    {
      "cell_type": "code",
      "execution_count": 1,
      "metadata": {},
      "outputs": [
        {
          "name": "stdout",
          "output_type": "stream",
          "text": [
            "   Static hostname: lorien.atp-fivt.org\n",
            "         Icon name: computer-server\n",
            "           Chassis: server\n",
            "        Machine ID: a3e5546e90014b9b9a9e42d56d79be4a\n",
            "           Boot ID: 47db86c6e5db447983d85aaaed0e9b8b\n",
            "  Operating System: Ubuntu 18.04.5 LTS\n",
            "            Kernel: Linux 4.15.0-206-generic\n",
            "      Architecture: x86-64\n"
          ]
        }
      ],
      "source": [
        "!hostnamectl"
      ]
    },
    {
      "cell_type": "code",
      "execution_count": 2,
      "metadata": {
        "colab": {
          "base_uri": "https://localhost:8080/"
        },
        "id": "q7pUBvecc_i1",
        "outputId": "d42f05ff-ded8-4828-fe98-ce8ccf684ec2"
      },
      "outputs": [],
      "source": [
        "# !pip install --force-reinstall tensorflow==2.3.0\n",
        "# !git clone https://github.com/githubharald/CTCWordBeamSearch.git\n",
        "# !pip install ./CTCWordBeamSearch\n",
        "# !(cd ./CTCWordBeamSearch/tests && pytest)"
      ]
    },
    {
      "cell_type": "markdown",
      "metadata": {
        "id": "h4xA7NGKNVVu"
      },
      "source": [
        "## Data collection"
      ]
    },
    {
      "cell_type": "code",
      "execution_count": 3,
      "metadata": {},
      "outputs": [],
      "source": [
        "data_dir = '/data_fast/MSMalcev/thesis'"
      ]
    },
    {
      "cell_type": "code",
      "execution_count": 4,
      "metadata": {
        "colab": {
          "base_uri": "https://localhost:8080/"
        },
        "id": "xV5b2ZdZNVVv",
        "outputId": "a214f25c-2f6f-4a0e-9cdb-f61c99d0d3e7"
      },
      "outputs": [],
      "source": [
        "# !wget --save-cookies cookies.txt \\\n",
        "#      --keep-session-cookies \\\n",
        "#      --post-data 'email=sogofi1968@youke1.com&password=Nopassword' \\\n",
        "#      --delete-after \\\n",
        "#      https://fki.tic.heia-fr.ch/login\n",
        "\n",
        "# !wget --load-cookies cookies.txt -O Downloads/sentences.tgz https://fki.tic.heia-fr.ch/DBs/iamDB/data/sentences.tgz\n",
        "# !wget --load-cookies cookies.txt -O Downloads/ascii.tgz https://fki.tic.heia-fr.ch/DBs/iamDB/data/ascii.tgz\n",
        "\n",
        "# !mkdir -p {data_dir}/sentences\n",
        "# !mkdir -p {data_dir}/ascii\n",
        "# !tar -xf Downloads/sentences.tgz --directory {data_dir}/sentences\n",
        "# !tar -xf Downloads/ascii.tgz --directory {data_dir}/ascii"
      ]
    },
    {
      "cell_type": "code",
      "execution_count": 5,
      "metadata": {
        "colab": {
          "base_uri": "https://localhost:8080/"
        },
        "id": "wQwoVEoFNVVx",
        "outputId": "0695808c-c6d4-4d35-f60f-0bae22e708ea"
      },
      "outputs": [
        {
          "name": "stdout",
          "output_type": "stream",
          "text": [
            "#--- sentences.txt -----------------------------------------------------------#\n",
            "#\n",
            "# iam database sentence information\n",
            "#\n",
            "# format: a01-000u-s0-00 0 ok 154 19 408 746 1663 91 A|MOVE|to|stop|Mr.|Gaitskell|from\n",
            "#\n",
            "#     a01-000u-s0-00  -> sentence/line id for form a01-000u\n",
            "#     0               -> sentence number within this form\n",
            "#     ok              -> result of word segmentation\n",
            "#                            ok: line is correctly segmented\n",
            "#                            er: segmentation of line has one or more errors\n",
            "#\n",
            "#                        warning: if a sentence starts or ends in the middle of\n",
            "#                                 a line which is not correctly segmeted, a\n",
            "#                                 correct extraction of the sentence can fail.\n",
            "#\n",
            "#     154             -> graylevel to binarize line\n",
            "#     19              -> number of components for this part of the sentence\n",
            "#     408 746 1663 91 -> bounding box around for this part of the sentence\n",
            "#                        in the x,y,w,h format\n",
            "#\n",
            "#     A|MOVE|to|stop|Mr.|Gaitskell|from\n",
            "#                     -> transcription for this part of the sentence. word\n",
            "#                        tokens are separated by the character |\n",
            "#\n",
            "a01-000u-s00-00 0 ok 154 19 408 746 1661 89 A|MOVE|to|stop|Mr.|Gaitskell|from\n",
            "a01-000u-s00-01 0 ok 156 19 395 932 1850 105 nominating|any|more|Labour|life|Peers\n",
            "a01-000u-s00-02 0 ok 157 16 408 1106 1986 105 is|to|be|made|at|a|meeting|of|Labour\n",
            "a01-000u-s00-03 0 err 156 9 430 1290 733 66 M Ps|tomorrow|.\n",
            "a01-000u-s01-00 1 err 156 14 1269 1292 1044 68 Mr.|Michael|Foot|has\n"
          ]
        }
      ],
      "source": [
        "!head -30 {data_dir}/ascii/sentences.txt"
      ]
    },
    {
      "attachments": {},
      "cell_type": "markdown",
      "metadata": {
        "id": "BoafFkHWNVVx"
      },
      "source": [
        "## Imports and setup"
      ]
    },
    {
      "cell_type": "code",
      "execution_count": 6,
      "metadata": {
        "id": "PiHZBke6NVVy"
      },
      "outputs": [
        {
          "name": "stdout",
          "output_type": "stream",
          "text": [
            "Sat Mar 25 23:36:19 2023       \n",
            "+-----------------------------------------------------------------------------+\n",
            "| NVIDIA-SMI 470.161.03   Driver Version: 470.161.03   CUDA Version: 11.4     |\n",
            "|-------------------------------+----------------------+----------------------+\n",
            "| GPU  Name        Persistence-M| Bus-Id        Disp.A | Volatile Uncorr. ECC |\n",
            "| Fan  Temp  Perf  Pwr:Usage/Cap|         Memory-Usage | GPU-Util  Compute M. |\n",
            "|                               |                      |               MIG M. |\n",
            "|===============================+======================+======================|\n",
            "|   0  NVIDIA GeForce ...  On   | 00000000:1B:00.0 Off |                  N/A |\n",
            "| 29%   40C    P2    58W / 250W |    305MiB / 11019MiB |      0%      Default |\n",
            "|                               |                      |                  N/A |\n",
            "+-------------------------------+----------------------+----------------------+\n",
            "|   1  NVIDIA GeForce ...  On   | 00000000:1C:00.0 Off |                  N/A |\n",
            "| 27%   25C    P8    13W / 250W |      3MiB / 11019MiB |      0%      Default |\n",
            "|                               |                      |                  N/A |\n",
            "+-------------------------------+----------------------+----------------------+\n",
            "|   2  NVIDIA GeForce ...  On   | 00000000:1D:00.0 Off |                  N/A |\n",
            "| 27%   29C    P8    21W / 250W |   1248MiB / 11019MiB |      0%      Default |\n",
            "|                               |                      |                  N/A |\n",
            "+-------------------------------+----------------------+----------------------+\n",
            "|   3  NVIDIA GeForce ...  On   | 00000000:1E:00.0 Off |                  N/A |\n",
            "| 30%   42C    P2    62W / 250W |   4809MiB / 11019MiB |      0%      Default |\n",
            "|                               |                      |                  N/A |\n",
            "+-------------------------------+----------------------+----------------------+\n",
            "|   4  NVIDIA GeForce ...  On   | 00000000:3D:00.0 Off |                  N/A |\n",
            "| 31%   40C    P2    58W / 250W |    312MiB / 11019MiB |      0%      Default |\n",
            "|                               |                      |                  N/A |\n",
            "+-------------------------------+----------------------+----------------------+\n",
            "|   5  NVIDIA GeForce ...  On   | 00000000:3F:00.0 Off |                  N/A |\n",
            "| 27%   31C    P8    21W / 250W |     37MiB / 11019MiB |      0%      Default |\n",
            "|                               |                      |                  N/A |\n",
            "+-------------------------------+----------------------+----------------------+\n",
            "|   6  NVIDIA GeForce ...  On   | 00000000:40:00.0 Off |                  N/A |\n",
            "| 27%   31C    P8    22W / 250W |     49MiB / 11019MiB |      0%      Default |\n",
            "|                               |                      |                  N/A |\n",
            "+-------------------------------+----------------------+----------------------+\n",
            "|   7  NVIDIA GeForce ...  On   | 00000000:41:00.0 Off |                  N/A |\n",
            "| 27%   27C    P8    21W / 250W |    117MiB / 11019MiB |      0%      Default |\n",
            "|                               |                      |                  N/A |\n",
            "+-------------------------------+----------------------+----------------------+\n",
            "                                                                               \n",
            "+-----------------------------------------------------------------------------+\n",
            "| Processes:                                                                  |\n",
            "|  GPU   GI   CI        PID   Type   Process name                  GPU Memory |\n",
            "|        ID   ID                                                   Usage      |\n",
            "|=============================================================================|\n",
            "|    0   N/A  N/A      6803      C   ./a.out                           151MiB |\n",
            "|    0   N/A  N/A     45620      C   ./build/01-add                    151MiB |\n",
            "|    2   N/A  N/A     17103      C   ...dataset/env/bin/python3.8     1119MiB |\n",
            "|    3   N/A  N/A     15179      C   ...distr-learning/bin/python     1281MiB |\n",
            "|    3   N/A  N/A     27643      C   ./01-add                          151MiB |\n",
            "|    3   N/A  N/A     27910      C   ./01-add                          151MiB |\n",
            "|    3   N/A  N/A     31211      C   ./01-add                          151MiB |\n",
            "|    4   N/A  N/A     44922      C   ./04-matrix-vector-mul            151MiB |\n",
            "+-----------------------------------------------------------------------------+\n",
            "[PhysicalDevice(name='/physical_device:GPU:0', device_type='GPU'), PhysicalDevice(name='/physical_device:GPU:1', device_type='GPU'), PhysicalDevice(name='/physical_device:GPU:2', device_type='GPU'), PhysicalDevice(name='/physical_device:GPU:3', device_type='GPU'), PhysicalDevice(name='/physical_device:GPU:4', device_type='GPU'), PhysicalDevice(name='/physical_device:GPU:5', device_type='GPU'), PhysicalDevice(name='/physical_device:GPU:6', device_type='GPU'), PhysicalDevice(name='/physical_device:GPU:7', device_type='GPU')]\n",
            "[LogicalDevice(name='/device:GPU:0', device_type='GPU'), LogicalDevice(name='/device:GPU:1', device_type='GPU'), LogicalDevice(name='/device:GPU:2', device_type='GPU'), LogicalDevice(name='/device:GPU:3', device_type='GPU'), LogicalDevice(name='/device:GPU:4', device_type='GPU'), LogicalDevice(name='/device:GPU:5', device_type='GPU'), LogicalDevice(name='/device:GPU:6', device_type='GPU'), LogicalDevice(name='/device:GPU:7', device_type='GPU')]\n",
            "Python version 3.6.9 (default, Mar 10 2023, 16:46:00)  [GCC 8.4.0]\n",
            "Tensorflow version 2.3.0\n",
            "nvcc: NVIDIA (R) Cuda compiler driver\n",
            "Copyright (c) 2005-2019 NVIDIA Corporation\n",
            "Built on Sun_Jul_28_19:07:16_PDT_2019\n",
            "Cuda compilation tools, release 10.1, V10.1.243\n"
          ]
        }
      ],
      "source": [
        "import matplotlib.pyplot as plt\n",
        "import tensorflow as tf\n",
        "import numpy as np\n",
        "import sys\n",
        "import os\n",
        "\n",
        "from tensorflow.keras.layers.experimental.preprocessing import StringLookup\n",
        "from tensorflow import keras\n",
        "from tensorflow.keras.callbacks import ModelCheckpoint, EarlyStopping\n",
        "from tensorflow.python.client import device_lib\n",
        "\n",
        "from word_beam_search import WordBeamSearch\n",
        "\n",
        "!nvidia-smi\n",
        "print(tf.config.list_physical_devices('GPU'))\n",
        "print(tf.config.list_logical_devices('GPU'))\n",
        "tf.device('/device:GPU:0')\n",
        "print(\"Python version \" + ' '.join(sys.version.split('\\n')))\n",
        "print(\"Tensorflow version \" + tf.version.VERSION)\n",
        "!nvcc --version"
      ]
    },
    {
      "cell_type": "code",
      "execution_count": 7,
      "metadata": {
        "id": "W4eQBjcNyhVg"
      },
      "outputs": [],
      "source": [
        "np.random.seed(1)\n",
        "tf.random.set_seed(1)"
      ]
    },
    {
      "cell_type": "markdown",
      "metadata": {
        "id": "ngSmh3GGNVVz"
      },
      "source": [
        "## Dataset Preparation"
      ]
    },
    {
      "cell_type": "code",
      "execution_count": 8,
      "metadata": {
        "colab": {
          "base_uri": "https://localhost:8080/"
        },
        "id": "TjYuNZiyNVVz",
        "outputId": "a443e7a9-da41-4038-fc71-c5cfff87fbf5"
      },
      "outputs": [
        {
          "name": "stdout",
          "output_type": "stream",
          "text": [
            "16752\n"
          ]
        },
        {
          "data": {
            "text/plain": [
              "['j01-059-s02-03 2 ok 187 29 347 1676 1656 77 to|the|sodium|by|circlips|on|either|side\\n',\n",
              " 'b05-055-s01-02 1 ok 186 22 347 1091 1775 96 heart|,|a|firm|grip|on|the|willow|and|a|hefty|contempt|for\\n',\n",
              " \"l04-005-s02-00 2 ok 180 39 347 1236 2018 170 '|Well|,|don't|I|get|a|drink|tonight|?|'|she|asked|boldly|.\\n\",\n",
              " 'l01-050-s03-01 3 ok 181 25 380 1209 1718 122 eyes|,|wild|and|frightened|,|were|fixed|on\\n',\n",
              " 'c01-009-s00-03 0 err 189 20 310 1450 1036 129 survey|of|a|life|work|.\\n',\n",
              " 'f04-083-s02-03 2 err 161 26 320 2391 1243 59 whom|she|worked|as|a|book-keeper|.\\n',\n",
              " 'm04-107-s03-04 3 ok 171 3 358 2360 432 138 dismay|.\\n',\n",
              " 'b01-073-s04-03 4 ok 172 31 372 2515 1496 73 not|weaken|it|further|by|desertion|.\\n',\n",
              " 'l07-118-s02-00 2 ok 172 14 748 1263 939 104 \"|She|,|\"|he|corrected|.\\n',\n",
              " 'd06-030-s05-01 5 ok 185 28 374 1440 1782 128 effective|,|must|be|of|that|child-like|quality|which|comes\\n',\n",
              " 'a01-128-s00-01 0 ok 160 20 350 903 1645 145 a|full|minute|-|and|even|his|bitterest|opponents\\n',\n",
              " 'r06-003-s02-00 2 ok 183 3 1909 1276 259 61 For|one\\n',\n",
              " \"n04-171-s01-00 1 ok 155 5 1736 747 317 107 I|'ll|give\\n\",\n",
              " 'h05-012-s01-01 1 ok 180 21 337 1265 1689 105 differing|in|certain|important|ways|from|the|ordinary|cost|of\\n',\n",
              " 'g04-104-s00-01 0 ok 149 30 361 1082 1664 89 both|in|the|parish|and|in|the|wider|war|activities|.\\n',\n",
              " 'f01-135-s01-03 1 ok 159 14 317 1420 1958 168 in|friends|and|acquaintances|.\\n',\n",
              " 'h04-071-s01-01 1 ok 163 35 312 1247 1849 138 average|expenditure|associated|with|a|child|was|on|cereal|foods|,\\n',\n",
              " 'n01-004-s02-00 2 ok 182 7 1744 1106 471 142 Once|again\\n',\n",
              " 'a06-064-s04-00 4 ok 181 10 1188 1804 909 84 But|there|was|ample\\n',\n",
              " 'e04-058-s01-00 1 ok 162 37 480 1077 1586 142 The|main|idea|is|to|have|the|moulds|standing|as\\n']"
            ]
          },
          "execution_count": 8,
          "metadata": {},
          "output_type": "execute_result"
        }
      ],
      "source": [
        "research_dataset_size = 10000\n",
        "\n",
        "lines_list = []\n",
        "\n",
        "lines = open(f\"{data_dir}/ascii/sentences.txt\", \"r\").readlines()\n",
        "for line in lines:\n",
        "    if line[0] == \"#\":\n",
        "        continue\n",
        "    \n",
        "    if line.split(\" \")[1] != \"err\":\n",
        "        lines_list.append(line)\n",
        "\n",
        "# lines_list = lines_list[:research_dataset_size]\n",
        "np.random.shuffle(lines_list)\n",
        "\n",
        "print(len(lines_list))\n",
        "lines_list[:20]"
      ]
    },
    {
      "cell_type": "markdown",
      "metadata": {
        "id": "Xm699DxPNVV0"
      },
      "source": [
        "### Splitting"
      ]
    },
    {
      "cell_type": "code",
      "execution_count": 9,
      "metadata": {
        "id": "iJlTYgM8NVV1"
      },
      "outputs": [],
      "source": [
        "split_idx = int(0.9 * len(lines_list))\n",
        "train_samples = lines_list[:split_idx]\n",
        "test_samples = lines_list[split_idx:]\n",
        "\n",
        "val_split_idx = int(0.5 * len(test_samples))\n",
        "validation_samples = test_samples[:val_split_idx]\n",
        "test_samples = test_samples[val_split_idx:]"
      ]
    },
    {
      "cell_type": "code",
      "execution_count": 10,
      "metadata": {
        "colab": {
          "base_uri": "https://localhost:8080/"
        },
        "id": "DXc9w7emNVV2",
        "outputId": "950f6926-e3e1-442e-bbb5-224e26c0f08e"
      },
      "outputs": [
        {
          "data": {
            "text/plain": [
              "['to the sodium by circlips on either side',\n",
              " 'heart , a firm grip on the willow and a hefty contempt for',\n",
              " \"' Well , don't I get a drink tonight ? ' she asked boldly .\",\n",
              " 'eyes , wild and frightened , were fixed on',\n",
              " 'survey of a life work .',\n",
              " 'whom she worked as a book-keeper .',\n",
              " 'dismay .',\n",
              " 'not weaken it further by desertion .',\n",
              " '\" She , \" he corrected .',\n",
              " 'effective , must be of that child-like quality which comes',\n",
              " 'a full minute - and even his bitterest opponents',\n",
              " 'For one',\n",
              " \"I 'll give\",\n",
              " 'differing in certain important ways from the ordinary cost of',\n",
              " 'both in the parish and in the wider war activities .',\n",
              " 'in friends and acquaintances .',\n",
              " 'average expenditure associated with a child was on cereal foods ,',\n",
              " 'Once again',\n",
              " 'But there was ample',\n",
              " 'The main idea is to have the moulds standing as']"
            ]
          },
          "execution_count": 10,
          "metadata": {},
          "output_type": "execute_result"
        }
      ],
      "source": [
        "base_image_path = f\"{data_dir}/sentences\"\n",
        "\n",
        "def get_image_paths_and_labels(samples):\n",
        "    paths = []\n",
        "    labels = []\n",
        "    for _, file_line in enumerate(samples):\n",
        "        line_split = file_line.strip()\n",
        "        line_split = line_split.split(\" \")\n",
        "\n",
        "        image_name = line_split[0]\n",
        "        part1 = image_name.split(\"-\")[0]\n",
        "        part2 = image_name.split(\"-\")[1]\n",
        "        img_path = f\"{base_image_path}/{part1}/{part1}-{part2}/{image_name}.png\"\n",
        "\n",
        "        if os.path.getsize(img_path):\n",
        "            paths.append(img_path)\n",
        "            label = file_line.split(\"\\n\")[0].split(\" \")[-1].replace('|', ' ').strip()\n",
        "            labels.append(label)\n",
        "\n",
        "    return paths, labels\n",
        "\n",
        "\n",
        "train_img_paths, train_labels = get_image_paths_and_labels(train_samples)\n",
        "validation_img_paths, validation_labels = get_image_paths_and_labels(validation_samples)\n",
        "test_img_paths, test_labels = get_image_paths_and_labels(test_samples)\n",
        "\n",
        "train_labels[:20]"
      ]
    },
    {
      "cell_type": "code",
      "execution_count": 11,
      "metadata": {
        "colab": {
          "base_uri": "https://localhost:8080/"
        },
        "id": "4_dSjMbHNVV3",
        "outputId": "2f7f66b8-487a-46fa-cdda-bc55eb49671a"
      },
      "outputs": [
        {
          "name": "stdout",
          "output_type": "stream",
          "text": [
            "Maximum length:  93\n",
            "Vocab size:  79\n",
            "['to the sodium by circlips on either side', 'heart , a firm grip on the willow and a hefty contempt for', \"' Well , don't I get a drink tonight ? ' she asked boldly .\", 'eyes , wild and frightened , were fixed on', 'survey of a life work .', 'whom she worked as a book-keeper .', 'dismay .', 'not weaken it further by desertion .', '\" She , \" he corrected .', 'effective , must be of that child-like quality which comes']\n",
            "['A bully like that respects anyone who', 'important to attempt the task of bringing', 'when in spite of carefully worded state-', 'nuclear tests conference and to the question of disarmament .', \"Of course one couldn't say for certain when a\", 'Watkinson is right .', \"COURSE WAS ' IMMEDIATELY CARRIED INTO\", 'circuit a corrosion indicator could be a reference', 'In addition to these revenues , the King had the', 'screws driven from the inside .']\n",
            "['had been supplied to particular practi-', 'West German Government .', 'around his room , and asked if she', 'fish like haddock , which would hardly', 'The effect of', 'the war .', 'later in this Report .', '10 note on to the bar and orders a', \"' O.K. , Roddy , whatever you say . '\", \"' But it 's easier said than done .\"]\n"
          ]
        }
      ],
      "source": [
        "characters = set()\n",
        "max_len = 0\n",
        "corpus = ''\n",
        "\n",
        "for label in train_labels:\n",
        "    corpus += label + ' '\n",
        "    for char in label:\n",
        "        characters.add(char)\n",
        "    max_len = max(max_len, len(label))\n",
        "\n",
        "characters = sorted(list(characters))\n",
        "\n",
        "print(\"Maximum length: \", max_len)\n",
        "print(\"Vocab size: \", len(characters))\n",
        "\n",
        "# Check some label samples.\n",
        "print(train_labels[:10])\n",
        "print(validation_labels[:10])\n",
        "print(test_labels[:10])"
      ]
    },
    {
      "cell_type": "code",
      "execution_count": 12,
      "metadata": {
        "id": "o9ciDfImNVV5"
      },
      "outputs": [],
      "source": [
        "char_to_num = StringLookup(vocabulary=list(characters), mask_token=None)\n",
        "num_to_char = StringLookup(vocabulary=char_to_num.get_vocabulary(), mask_token=None, invert=True)"
      ]
    },
    {
      "cell_type": "markdown",
      "metadata": {
        "id": "JYyAQivzWGBh"
      },
      "source": [
        "Initializing word beam search:"
      ]
    },
    {
      "cell_type": "code",
      "execution_count": 13,
      "metadata": {
        "id": "_oa_uI8-WFRb"
      },
      "outputs": [],
      "source": [
        "# word_chars = 'QWERTYUIOPASDFGHJKLZXCVBNMqwertyuiopasdfghjklzxcvbnm'\n",
        "# beam_search = WordBeamSearch(25, 'Words', 0.0, corpus.encode('utf8'), characters.encode('utf8'), word_chars.encode('utf8'))"
      ]
    },
    {
      "cell_type": "markdown",
      "metadata": {
        "id": "VYoctyT787br"
      },
      "source": [
        "Resizing images:"
      ]
    },
    {
      "cell_type": "code",
      "execution_count": 14,
      "metadata": {
        "id": "mX4e4SuhNVV6"
      },
      "outputs": [],
      "source": [
        "def resize_image(image, img_size):\n",
        "    w, h = img_size\n",
        "    image = tf.image.resize(image, size=(h, w), preserve_aspect_ratio=True)\n",
        "\n",
        "    pad_height = h - tf.shape(image)[0]\n",
        "    pad_width = w - tf.shape(image)[1]\n",
        "\n",
        "    if pad_height % 2 != 0:\n",
        "        height = pad_height // 2\n",
        "        pad_height_top = height + 1\n",
        "        pad_height_bottom = height\n",
        "    else:\n",
        "        pad_height_top = pad_height_bottom = pad_height // 2\n",
        "\n",
        "    if pad_width % 2 != 0:\n",
        "        width = pad_width // 2\n",
        "        pad_width_left = width + 1\n",
        "        pad_width_right = width\n",
        "    else:\n",
        "        pad_width_left = pad_width_right = pad_width // 2\n",
        "\n",
        "    image = tf.pad(image, paddings=[\n",
        "        [pad_height_top, pad_height_bottom],\n",
        "        [pad_width_left, pad_width_right],\n",
        "        [0, 0],\n",
        "    ])\n",
        "\n",
        "    return image\n"
      ]
    },
    {
      "cell_type": "markdown",
      "metadata": {
        "id": "EjiQr5xRNVV7"
      },
      "source": [
        "Creating dataset:"
      ]
    },
    {
      "cell_type": "code",
      "execution_count": 15,
      "metadata": {
        "id": "wSl4k2ZlNVV7"
      },
      "outputs": [],
      "source": [
        "batch_size = 64\n",
        "padding_token = len(characters) + 10\n",
        "image_width = 512\n",
        "image_height = 64\n",
        "\n",
        "\n",
        "def label_to_sequence(label):\n",
        "    label = char_to_num(tf.strings.unicode_split(label, input_encoding=\"UTF-8\"))\n",
        "    length = tf.shape(label)[0]\n",
        "    return tf.pad(label, paddings=[[0, max_len - length]], constant_values=padding_token)\n",
        "\n",
        "\n",
        "def process_images_labels(image_path, label):\n",
        "    image = tf.io.read_file(image_path)\n",
        "    image = tf.image.decode_png(image, 1)\n",
        "    image = resize_image(image, (image_width, image_height))\n",
        "    image = tf.cast(image, tf.float32) / 255.0\n",
        "    \n",
        "    label = label_to_sequence(label)\n",
        "    return (image, label)\n",
        "\n",
        "\n",
        "def prepare_dataset(image_paths, labels):\n",
        "    dataset = tf.data.Dataset.from_tensor_slices((image_paths, labels)).map(process_images_labels)\n",
        "    return dataset.batch(batch_size).cache().prefetch(10)\n"
      ]
    },
    {
      "cell_type": "code",
      "execution_count": 16,
      "metadata": {
        "id": "xFFW2TfsNVV8"
      },
      "outputs": [],
      "source": [
        "train_ds = prepare_dataset(train_img_paths, train_labels)\n",
        "validation_ds = prepare_dataset(validation_img_paths, validation_labels)\n",
        "test_ds = prepare_dataset(test_img_paths, test_labels)"
      ]
    },
    {
      "cell_type": "markdown",
      "metadata": {
        "id": "Qf207xIPNVV8"
      },
      "source": [
        "## Samples visualization"
      ]
    },
    {
      "cell_type": "code",
      "execution_count": 17,
      "metadata": {
        "colab": {
          "base_uri": "https://localhost:8080/",
          "height": 452
        },
        "id": "ObFzIrJ8NVV8",
        "outputId": "7c7a0cf9-167a-4a5d-82b8-d26fea091dad"
      },
      "outputs": [
        {
          "data": {
            "image/png": "[encoded data removed]",
            "text/plain": [
              "<Figure size 1080x576 with 8 Axes>"
            ]
          },
          "metadata": {
            "needs_background": "light"
          },
          "output_type": "display_data"
        }
      ],
      "source": [
        "for images, labels in train_ds.take(1):\n",
        "    _, ax = plt.subplots(4, 2, figsize=(15, 8))\n",
        "\n",
        "    for i in range(min(batch_size, 8)):\n",
        "        img = images[i]\n",
        "\n",
        "        label = labels[i]\n",
        "        indices = tf.gather(label, tf.where(tf.math.not_equal(label, padding_token)))\n",
        "        \n",
        "        label = tf.strings.reduce_join(num_to_char(indices))\n",
        "        label = label.numpy().decode(\"utf-8\")\n",
        "\n",
        "        ax[i % 4, i // 4].imshow(tf.reshape(img, (img.shape[0], img.shape[1])), cmap=\"gray\")\n",
        "        ax[i % 4, i // 4].set_title(label)\n",
        "\n",
        "\n",
        "plt.show()"
      ]
    },
    {
      "cell_type": "markdown",
      "metadata": {
        "id": "AO17bOxkNVV9"
      },
      "source": [
        "## Model"
      ]
    },
    {
      "cell_type": "markdown",
      "metadata": {
        "id": "GhPD9Qiq7iBR"
      },
      "source": [
        "Defining CTC loss:"
      ]
    },
    {
      "cell_type": "code",
      "execution_count": 18,
      "metadata": {
        "id": "3f3jr5EtlZyv"
      },
      "outputs": [],
      "source": [
        "class CTCLoss(tf.keras.losses.Loss):\n",
        "    def __init__(self, name='CTCLoss'):\n",
        "        super().__init__(name=name)\n",
        "        self.loss_fn = tf.keras.backend.ctc_batch_cost\n",
        "\n",
        "    def call(self, y_true, y_pred):\n",
        "        batch_len = tf.cast(tf.shape(y_true)[0], dtype=\"int64\")\n",
        "        input_length = tf.cast(tf.shape(y_pred)[1], dtype=\"int64\")\n",
        "        label_length = tf.cast(tf.shape(y_true)[1], dtype=\"int64\")\n",
        "\n",
        "        input_length = input_length * tf.ones(shape=(batch_len, 1), dtype=\"int64\")\n",
        "        label_length = label_length * tf.ones(shape=(batch_len, 1), dtype=\"int64\")\n",
        "\n",
        "        loss = self.loss_fn(y_true, y_pred, input_length, label_length)\n",
        "\n",
        "        return loss"
      ]
    },
    {
      "cell_type": "markdown",
      "metadata": {
        "id": "pyotskG37mOs"
      },
      "source": [
        "Defining CER metric:"
      ]
    },
    {
      "cell_type": "code",
      "execution_count": 19,
      "metadata": {
        "cellView": "code",
        "id": "5j-uGKh8tpOJ"
      },
      "outputs": [],
      "source": [
        "def pred_batch_to_sequences(pred):\n",
        "    input_length = tf.ones(tf.shape(pred)[0], dtype=tf.dtypes.int32) * tf.shape(pred)[1]\n",
        "    return keras.backend.ctc_decode(pred, input_length=input_length, greedy=True)[0][0]\n",
        "    # return beam_search.compute(tf.transpose(pred, (1, 0, 2)))\n",
        "\n",
        "\n",
        "def sequences_batch_to_words(sequences):\n",
        "    words = []\n",
        "    for sequence in sequences:\n",
        "        sequence = tf.gather(sequence, tf.where(tf.math.not_equal(sequence, -1)))\n",
        "        sequence = tf.strings.reduce_join(num_to_char(sequence)).numpy().decode(\"utf-8\")\n",
        "        words.append(sequence)\n",
        "    \n",
        "    return words\n",
        "\n",
        "\n",
        "class CERMetric(tf.keras.metrics.Metric):\n",
        "    def __init__(self, vocabulary, name='CER', **kwargs):\n",
        "        super().__init__(name=name)\n",
        "        \n",
        "        self.cer_accumulator = tf.Variable(0.0, name=\"cer_accumulator\", dtype=tf.float32)\n",
        "        self.batch_counter = tf.Variable(0, name=\"batch_counter\", dtype=tf.int32)\n",
        "        \n",
        "        self.vocabulary = tf.constant(list(vocabulary))\n",
        "\n",
        "    @staticmethod\n",
        "    def shift_value_right_and_cut(batch, value):\n",
        "        batch = batch - value\n",
        "        n_not_zero = tf.math.count_nonzero(batch, -1)\n",
        "\n",
        "        flat_batch = tf.reshape(batch, [-1])\n",
        "        mask = tf.math.logical_not(tf.equal(flat_batch, tf.zeros_like(flat_batch)))\n",
        "        flat_batch_without_zero = tf.boolean_mask(flat_batch, mask)\n",
        "\n",
        "        ragged_batch = tf.RaggedTensor.from_row_lengths(values=flat_batch_without_zero, row_lengths=n_not_zero)\n",
        "\n",
        "        padded_batch = ragged_batch.to_tensor(default_value=0)\n",
        "        padded_batch = padded_batch + value\n",
        "\n",
        "        return padded_batch\n",
        "\n",
        "    def get_cer(self, pred_decoded, y_true, error_token=-1):\n",
        "        vocab_length = tf.cast(tf.shape(self.vocabulary)[0], tf.int64)\n",
        "\n",
        "        valid_pred_indices = tf.less(pred_decoded, vocab_length)\n",
        "        valid_pred = tf.where(valid_pred_indices, pred_decoded, error_token)\n",
        "        valid_pred = self.shift_value_right_and_cut(valid_pred, error_token)\n",
        "\n",
        "        y_true = tf.cast(y_true, tf.int64)\n",
        "        valid_true_indices = tf.less(y_true, vocab_length)\n",
        "        valid_true = tf.where(valid_true_indices, y_true, error_token)\n",
        "        valid_true = self.shift_value_right_and_cut(valid_true, error_token)\n",
        "\n",
        "        sparse_pred = tf.sparse.from_dense(valid_pred)\n",
        "        sparse_true = tf.sparse.from_dense(valid_true)\n",
        "\n",
        "        distance = tf.edit_distance(sparse_pred, sparse_true, normalize=True)\n",
        "\n",
        "        return distance\n",
        "\n",
        "    def update_state(self, y_true, y_pred, sample_weight=None):\n",
        "        decoded_sequences = pred_batch_to_sequences(y_pred)\n",
        "        distance = self.get_cer(decoded_sequences, y_true)\n",
        "\n",
        "        self.cer_accumulator.assign_add(tf.reduce_sum(distance))\n",
        "        self.batch_counter.assign_add(len(y_true))\n",
        "    \n",
        "    def reset_state(self):\n",
        "        self.cer_accumulator.assign(0.0)\n",
        "        self.batch_counter.assign(0)\n",
        "\n",
        "    def result(self):\n",
        "        return tf.math.divide_no_nan(self.cer_accumulator, tf.cast(self.batch_counter, tf.float32))"
      ]
    },
    {
      "cell_type": "markdown",
      "metadata": {
        "id": "QliD0HC37tPO"
      },
      "source": [
        "Building our model:"
      ]
    },
    {
      "cell_type": "code",
      "execution_count": 20,
      "metadata": {
        "colab": {
          "base_uri": "https://localhost:8080/"
        },
        "id": "NHozJeDBNVV-",
        "outputId": "7af94f08-8b0c-4154-fbf0-0f4c6e8beb1f"
      },
      "outputs": [
        {
          "name": "stdout",
          "output_type": "stream",
          "text": [
            "Model: \"functional_1\"\n",
            "_________________________________________________________________\n",
            "Layer (type)                 Output Shape              Param #   \n",
            "=================================================================\n",
            "input_1 (InputLayer)         [(None, 64, 512, 1)]      0         \n",
            "_________________________________________________________________\n",
            "permute (Permute)            (None, 512, 64, 1)        0         \n",
            "_________________________________________________________________\n",
            "conv2d (Conv2D)              (None, 512, 64, 64)       640       \n",
            "_________________________________________________________________\n",
            "max_pooling2d (MaxPooling2D) (None, 256, 32, 64)       0         \n",
            "_________________________________________________________________\n",
            "conv2d_1 (Conv2D)            (None, 256, 32, 128)      73856     \n",
            "_________________________________________________________________\n",
            "max_pooling2d_1 (MaxPooling2 (None, 128, 16, 128)      0         \n",
            "_________________________________________________________________\n",
            "reshape (Reshape)            (None, 128, 2048)         0         \n",
            "_________________________________________________________________\n",
            "dense (Dense)                (None, 128, 64)           131136    \n",
            "_________________________________________________________________\n",
            "dropout (Dropout)            (None, 128, 64)           0         \n",
            "_________________________________________________________________\n",
            "bidirectional (Bidirectional (None, 128, 512)          657408    \n",
            "_________________________________________________________________\n",
            "bidirectional_1 (Bidirection (None, 128, 256)          656384    \n",
            "_________________________________________________________________\n",
            "dense_1 (Dense)              (None, 128, 82)           21074     \n",
            "=================================================================\n",
            "Total params: 1,540,498\n",
            "Trainable params: 1,540,498\n",
            "Non-trainable params: 0\n",
            "_________________________________________________________________\n"
          ]
        }
      ],
      "source": [
        "def define_model():\n",
        "    input_img = keras.Input(shape=(image_height, image_width, 1))\n",
        "    # labels = keras.layers.Input(name=\"label\", shape=(None,))\n",
        "\n",
        "    x = keras.layers.Permute((2, 1, 3))(input_img)\n",
        "\n",
        "    x = keras.layers.Conv2D(\n",
        "        64,\n",
        "        (3, 3),\n",
        "        activation=\"relu\",\n",
        "        kernel_initializer=\"he_normal\",\n",
        "        padding=\"same\"\n",
        "    )(x)\n",
        "    x = keras.layers.MaxPooling2D((2, 2))(x)\n",
        "\n",
        "    x = keras.layers.Conv2D(\n",
        "        128,\n",
        "        (3, 3),\n",
        "        activation=\"relu\",\n",
        "        kernel_initializer=\"he_normal\",\n",
        "        padding=\"same\"\n",
        "    )(x)\n",
        "    x = keras.layers.MaxPooling2D((2, 2))(x)\n",
        "\n",
        "    new_shape = ((image_width // 4), (image_height // 4) * 128)\n",
        "    x = keras.layers.Reshape(target_shape=new_shape, name=\"reshape\")(x)\n",
        "\n",
        "    x = keras.layers.Dense(64, activation=\"relu\")(x)\n",
        "    x = keras.layers.Dropout(0.2)(x)\n",
        "\n",
        "    x = keras.layers.Bidirectional(\n",
        "        keras.layers.LSTM(256, return_sequences=True, dropout=0.25)\n",
        "    )(x)\n",
        "    x = keras.layers.Bidirectional(\n",
        "        keras.layers.LSTM(128, return_sequences=True, dropout=0.25)\n",
        "    )(x)\n",
        "\n",
        "    # two special tokens for CTC.\n",
        "    output = keras.layers.Dense(len(char_to_num.get_vocabulary()) + 2, activation=\"softmax\")(x)\n",
        "\n",
        "    model = keras.models.Model(inputs=[input_img], outputs=output)\n",
        "\n",
        "    model.compile(\n",
        "        optimizer=keras.optimizers.Adam(),\n",
        "        loss=CTCLoss(),\n",
        "        metrics=[CERMetric(characters)]\n",
        "    )\n",
        "\n",
        "    return model\n",
        "\n",
        "\n",
        "model = define_model()\n",
        "model.summary()\n",
        "# keras.utils.plot_model(model)"
      ]
    },
    {
      "cell_type": "markdown",
      "metadata": {
        "id": "BmJ-qzxDNVWA"
      },
      "source": [
        "## Training"
      ]
    },
    {
      "cell_type": "code",
      "execution_count": 21,
      "metadata": {
        "colab": {
          "base_uri": "https://localhost:8080/",
          "height": 1000
        },
        "id": "GjM6ZRksNVWA",
        "outputId": "22bcc83f-b13c-49cf-bd99-6b85b225198a"
      },
      "outputs": [
        {
          "name": "stdout",
          "output_type": "stream",
          "text": [
            "Epoch 1/50\n",
            "WARNING:tensorflow:From /home/MSMalcev/.local/lib/python3.6/site-packages/tensorflow/python/util/dispatch.py:201: sparse_to_dense (from tensorflow.python.ops.sparse_ops) is deprecated and will be removed in a future version.\n",
            "Instructions for updating:\n",
            "Create a `tf.sparse.SparseTensor` and use `tf.sparse.to_dense` instead.\n",
            "236/236 [==============================] - 47s 197ms/step - loss: 111.6443 - CER: 0.9949 - val_loss: 105.2080 - val_CER: 0.9988\n",
            "Epoch 2/50\n",
            "236/236 [==============================] - 30s 128ms/step - loss: 93.0826 - CER: 0.8144 - val_loss: 79.0639 - val_CER: 0.6140\n",
            "Epoch 3/50\n",
            "236/236 [==============================] - 30s 128ms/step - loss: 74.2616 - CER: 0.5450 - val_loss: 62.2955 - val_CER: 0.4240\n",
            "Epoch 4/50\n",
            " 91/236 [==========>...................] - ETA: 18s - loss: 64.3019 - CER: 0.4104\n",
            "Epoch 00004: saving model to model/model.h5\n",
            "236/236 [==============================] - 30s 129ms/step - loss: 60.3935 - CER: 0.3859 - val_loss: 48.0855 - val_CER: 0.3204\n",
            "Epoch 5/50\n",
            "236/236 [==============================] - 31s 130ms/step - loss: 49.7284 - CER: 0.3225 - val_loss: 39.5285 - val_CER: 0.2540\n",
            "Epoch 6/50\n",
            "236/236 [==============================] - 31s 131ms/step - loss: 43.0248 - CER: 0.2822 - val_loss: 34.0386 - val_CER: 0.2317\n",
            "Epoch 7/50\n",
            "183/236 [======================>.......] - ETA: 6s - loss: 37.8783 - CER: 0.2560\n",
            "Epoch 00007: saving model to model/model.h5\n",
            "236/236 [==============================] - 31s 132ms/step - loss: 37.5308 - CER: 0.2525 - val_loss: 31.2168 - val_CER: 0.2164\n",
            "Epoch 8/50\n",
            "236/236 [==============================] - 31s 131ms/step - loss: 33.9661 - CER: 0.2304 - val_loss: 27.2199 - val_CER: 0.1841\n",
            "Epoch 9/50\n",
            "236/236 [==============================] - 31s 131ms/step - loss: 30.9535 - CER: 0.2129 - val_loss: 25.5189 - val_CER: 0.1825\n",
            "Epoch 10/50\n",
            "236/236 [==============================] - 31s 130ms/step - loss: 29.5869 - CER: 0.2031 - val_loss: 23.6778 - val_CER: 0.1622\n",
            "Epoch 11/50\n",
            " 39/236 [===>..........................] - ETA: 23s - loss: 27.7300 - CER: 0.1835\n",
            "Epoch 00011: saving model to model/model.h5\n",
            "236/236 [==============================] - 31s 129ms/step - loss: 26.8259 - CER: 0.1852 - val_loss: 22.3889 - val_CER: 0.1599\n",
            "Epoch 12/50\n",
            "236/236 [==============================] - 31s 131ms/step - loss: 25.3403 - CER: 0.1771 - val_loss: 21.4135 - val_CER: 0.1489\n",
            "Epoch 13/50\n",
            "133/236 [===============>..............] - ETA: 13s - loss: 24.1185 - CER: 0.1706"
          ]
        }
      ],
      "source": [
        "epochs = 50\n",
        "\n",
        "checkpoint = ModelCheckpoint(\"model/model.h5\", verbose=1, save_freq=800)\n",
        "earlystopper = EarlyStopping(patience=3, verbose=1)\n",
        "\n",
        "history = model.fit(\n",
        "    train_ds,\n",
        "    validation_data=validation_ds,\n",
        "    epochs=epochs,\n",
        "    callbacks=[checkpoint]\n",
        ")"
      ]
    },
    {
      "cell_type": "markdown",
      "metadata": {
        "id": "T4e42EkONVWA"
      },
      "source": [
        "## Testing"
      ]
    },
    {
      "cell_type": "code",
      "execution_count": 54,
      "metadata": {
        "colab": {
          "base_uri": "https://localhost:8080/"
        },
        "id": "rKFHivXzNVWB",
        "outputId": "dcb5bc25-b2fb-4c75-e06b-1a6ee80596f7"
      },
      "outputs": [
        {
          "name": "stdout",
          "output_type": "stream",
          "text": [
            "27/27 [==============================] - 3s 112ms/step - loss: 13.3096 - CER: 0.0827\n"
          ]
        },
        {
          "data": {
            "text/plain": [
              "[13.309638023376465, 0.08271490037441254]"
            ]
          },
          "execution_count": 54,
          "metadata": {},
          "output_type": "execute_result"
        }
      ],
      "source": [
        "model.evaluate(test_ds)"
      ]
    },
    {
      "cell_type": "markdown",
      "metadata": {
        "id": "hiVc7zOWNVWB"
      },
      "source": [
        "We got sufficient accuracy for our service."
      ]
    }
  ],
  "metadata": {
    "accelerator": "GPU",
    "colab": {
      "provenance": []
    },
    "gpuClass": "standard",
    "kernelspec": {
      "display_name": "Python 3",
      "language": "python",
      "name": "python3"
    },
    "language_info": {
      "codemirror_mode": {
        "name": "ipython",
        "version": 3
      },
      "file_extension": ".py",
      "mimetype": "text/x-python",
      "name": "python",
      "nbconvert_exporter": "python",
      "pygments_lexer": "ipython3",
      "version": "3.6.9"
    }
  },
  "nbformat": 4,
  "nbformat_minor": 0
}
